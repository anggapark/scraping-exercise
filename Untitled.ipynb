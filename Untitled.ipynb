{
 "cells": [
  {
   "cell_type": "code",
   "execution_count": 1,
   "id": "0a97d8d6",
   "metadata": {},
   "outputs": [
    {
     "name": "stdout",
     "output_type": "stream",
     "text": [
      "Requirement already satisfied: requests in c:\\users\\user\\envs\\scraping-exercise\\lib\\site-packages (2.28.0)\n",
      "Requirement already satisfied: urllib3<1.27,>=1.21.1 in c:\\users\\user\\envs\\scraping-exercise\\lib\\site-packages (from requests) (1.26.9)\n",
      "Requirement already satisfied: charset-normalizer~=2.0.0 in c:\\users\\user\\envs\\scraping-exercise\\lib\\site-packages (from requests) (2.0.12)\n",
      "Requirement already satisfied: certifi>=2017.4.17 in c:\\users\\user\\envs\\scraping-exercise\\lib\\site-packages (from requests) (2022.6.15)\n",
      "Requirement already satisfied: idna<4,>=2.5 in c:\\users\\user\\envs\\scraping-exercise\\lib\\site-packages (from requests) (3.3)\n",
      "Note: you may need to restart the kernel to use updated packages.\n"
     ]
    },
    {
     "name": "stderr",
     "output_type": "stream",
     "text": [
      "WARNING: You are using pip version 22.0.4; however, version 22.1.2 is available.\n",
      "You should consider upgrading via the 'C:\\Users\\User\\Envs\\scraping-exercise\\Scripts\\python.exe -m pip install --upgrade pip' command.\n"
     ]
    }
   ],
   "source": [
    "pip install requests"
   ]
  },
  {
   "cell_type": "code",
   "execution_count": 2,
   "id": "fd975bda",
   "metadata": {},
   "outputs": [],
   "source": [
    "url = \"https://v2.jokeapi.dev/joke/Any?amount=5\""
   ]
  },
  {
   "cell_type": "markdown",
   "id": "5d1cb209",
   "metadata": {},
   "source": [
    "## Extracting Data"
   ]
  },
  {
   "cell_type": "code",
   "execution_count": 3,
   "id": "0b0d85be",
   "metadata": {},
   "outputs": [
    {
     "data": {
      "text/plain": [
       "<Response [200]>"
      ]
     },
     "execution_count": 3,
     "metadata": {},
     "output_type": "execute_result"
    }
   ],
   "source": [
    "import requests\n",
    "\n",
    "response = requests.get(url)\n",
    "response"
   ]
  },
  {
   "cell_type": "code",
   "execution_count": 4,
   "id": "14f2256d",
   "metadata": {},
   "outputs": [
    {
     "data": {
      "text/plain": [
       "True"
      ]
     },
     "execution_count": 4,
     "metadata": {},
     "output_type": "execute_result"
    }
   ],
   "source": [
    "response.ok"
   ]
  },
  {
   "cell_type": "code",
   "execution_count": 5,
   "id": "e14e395c",
   "metadata": {},
   "outputs": [
    {
     "data": {
      "text/plain": [
       "200"
      ]
     },
     "execution_count": 5,
     "metadata": {},
     "output_type": "execute_result"
    }
   ],
   "source": [
    "response.status_code"
   ]
  },
  {
   "cell_type": "code",
   "execution_count": 6,
   "id": "5f156fc9",
   "metadata": {},
   "outputs": [
    {
     "data": {
      "text/plain": [
       "'{\\n    \"error\": false,\\n    \"amount\": 5,\\n    \"jokes\": [\\n        {\\n            \"category\": \"Misc\",\\n            \"type\": \"twopart\",\\n            \"setup\": \"This morning I accidentally made my coffee with Red Bull instead of water.\",\\n            \"delivery\": \"I was already on the highway when I noticed I forgot my car at home.\",\\n            \"flags\": {\\n                \"nsfw\": false,\\n                \"religious\": false,\\n                \"political\": false,\\n                \"racist\": false,\\n                \"sexist\": false,\\n                \"explicit\": false\\n            },\\n            \"id\": 146,\\n            \"safe\": true,\\n            \"lang\": \"en\"\\n        },\\n        {\\n            \"category\": \"Misc\",\\n            \"type\": \"twopart\",\\n            \"setup\": \"Mom asked me where I\\'m taking her to go out to eat for mother\\'s day.\",\\n            \"delivery\": \"I told her, \\\\\"We already have food in the house\\\\\".\",\\n            \"flags\": {\\n                \"nsfw\": false,\\n                \"religious\": false,\\n                \"political\": false,\\n                \"racist\": false,\\n                \"sexist\": false,\\n                \"explicit\": false\\n            },\\n            \"id\": 88,\\n            \"safe\": true,\\n            \"lang\": \"en\"\\n        },\\n        {\\n            \"category\": \"Programming\",\\n            \"type\": \"single\",\\n            \"joke\": \"A SQL statement walks into a bar and sees two tables.\\\\nIt approaches, and asks \\\\\"may I join you?\\\\\"\",\\n            \"flags\": {\\n                \"nsfw\": false,\\n                \"religious\": false,\\n                \"political\": false,\\n                \"racist\": false,\\n                \"sexist\": false,\\n                \"explicit\": false\\n            },\\n            \"id\": 5,\\n            \"safe\": true,\\n            \"lang\": \"en\"\\n        },\\n        {\\n            \"category\": \"Dark\",\\n            \"type\": \"twopart\",\\n            \"setup\": \"What part of a vegetable are you not supposed to eat?\",\\n            \"delivery\": \"The wheelchair.\",\\n            \"flags\": {\\n                \"nsfw\": false,\\n                \"religious\": false,\\n                \"political\": false,\\n                \"racist\": false,\\n                \"sexist\": false,\\n                \"explicit\": true\\n            },\\n            \"id\": 153,\\n            \"safe\": false,\\n            \"lang\": \"en\"\\n        },\\n        {\\n            \"category\": \"Misc\",\\n            \"type\": \"twopart\",\\n            \"setup\": \"If I make you breakfast in bed, a simple thank you is all I need.\",\\n            \"delivery\": \"Not all this \\\\\"How the fuck did you get in my house?!\\\\\" nonsense.\",\\n            \"flags\": {\\n                \"nsfw\": false,\\n                \"religious\": false,\\n                \"political\": false,\\n                \"racist\": false,\\n                \"sexist\": false,\\n                \"explicit\": true\\n            },\\n            \"id\": 84,\\n            \"safe\": false,\\n            \"lang\": \"en\"\\n        }\\n    ]\\n}'"
      ]
     },
     "execution_count": 6,
     "metadata": {},
     "output_type": "execute_result"
    }
   ],
   "source": [
    "response.text"
   ]
  },
  {
   "cell_type": "code",
   "execution_count": 7,
   "id": "77033b46",
   "metadata": {},
   "outputs": [
    {
     "data": {
      "text/plain": [
       "b'{\\n    \"error\": false,\\n    \"amount\": 5,\\n    \"jokes\": [\\n        {\\n            \"category\": \"Misc\",\\n            \"type\": \"twopart\",\\n            \"setup\": \"This morning I accidentally made my coffee with Red Bull instead of water.\",\\n            \"delivery\": \"I was already on the highway when I noticed I forgot my car at home.\",\\n            \"flags\": {\\n                \"nsfw\": false,\\n                \"religious\": false,\\n                \"political\": false,\\n                \"racist\": false,\\n                \"sexist\": false,\\n                \"explicit\": false\\n            },\\n            \"id\": 146,\\n            \"safe\": true,\\n            \"lang\": \"en\"\\n        },\\n        {\\n            \"category\": \"Misc\",\\n            \"type\": \"twopart\",\\n            \"setup\": \"Mom asked me where I\\'m taking her to go out to eat for mother\\'s day.\",\\n            \"delivery\": \"I told her, \\\\\"We already have food in the house\\\\\".\",\\n            \"flags\": {\\n                \"nsfw\": false,\\n                \"religious\": false,\\n                \"political\": false,\\n                \"racist\": false,\\n                \"sexist\": false,\\n                \"explicit\": false\\n            },\\n            \"id\": 88,\\n            \"safe\": true,\\n            \"lang\": \"en\"\\n        },\\n        {\\n            \"category\": \"Programming\",\\n            \"type\": \"single\",\\n            \"joke\": \"A SQL statement walks into a bar and sees two tables.\\\\nIt approaches, and asks \\\\\"may I join you?\\\\\"\",\\n            \"flags\": {\\n                \"nsfw\": false,\\n                \"religious\": false,\\n                \"political\": false,\\n                \"racist\": false,\\n                \"sexist\": false,\\n                \"explicit\": false\\n            },\\n            \"id\": 5,\\n            \"safe\": true,\\n            \"lang\": \"en\"\\n        },\\n        {\\n            \"category\": \"Dark\",\\n            \"type\": \"twopart\",\\n            \"setup\": \"What part of a vegetable are you not supposed to eat?\",\\n            \"delivery\": \"The wheelchair.\",\\n            \"flags\": {\\n                \"nsfw\": false,\\n                \"religious\": false,\\n                \"political\": false,\\n                \"racist\": false,\\n                \"sexist\": false,\\n                \"explicit\": true\\n            },\\n            \"id\": 153,\\n            \"safe\": false,\\n            \"lang\": \"en\"\\n        },\\n        {\\n            \"category\": \"Misc\",\\n            \"type\": \"twopart\",\\n            \"setup\": \"If I make you breakfast in bed, a simple thank you is all I need.\",\\n            \"delivery\": \"Not all this \\\\\"How the fuck did you get in my house?!\\\\\" nonsense.\",\\n            \"flags\": {\\n                \"nsfw\": false,\\n                \"religious\": false,\\n                \"political\": false,\\n                \"racist\": false,\\n                \"sexist\": false,\\n                \"explicit\": true\\n            },\\n            \"id\": 84,\\n            \"safe\": false,\\n            \"lang\": \"en\"\\n        }\\n    ]\\n}'"
      ]
     },
     "execution_count": 7,
     "metadata": {},
     "output_type": "execute_result"
    }
   ],
   "source": [
    "response.content"
   ]
  },
  {
   "cell_type": "code",
   "execution_count": 8,
   "id": "8ffe0d50",
   "metadata": {},
   "outputs": [
    {
     "data": {
      "text/plain": [
       "{'error': False,\n",
       " 'amount': 5,\n",
       " 'jokes': [{'category': 'Misc',\n",
       "   'type': 'twopart',\n",
       "   'setup': 'This morning I accidentally made my coffee with Red Bull instead of water.',\n",
       "   'delivery': 'I was already on the highway when I noticed I forgot my car at home.',\n",
       "   'flags': {'nsfw': False,\n",
       "    'religious': False,\n",
       "    'political': False,\n",
       "    'racist': False,\n",
       "    'sexist': False,\n",
       "    'explicit': False},\n",
       "   'id': 146,\n",
       "   'safe': True,\n",
       "   'lang': 'en'},\n",
       "  {'category': 'Misc',\n",
       "   'type': 'twopart',\n",
       "   'setup': \"Mom asked me where I'm taking her to go out to eat for mother's day.\",\n",
       "   'delivery': 'I told her, \"We already have food in the house\".',\n",
       "   'flags': {'nsfw': False,\n",
       "    'religious': False,\n",
       "    'political': False,\n",
       "    'racist': False,\n",
       "    'sexist': False,\n",
       "    'explicit': False},\n",
       "   'id': 88,\n",
       "   'safe': True,\n",
       "   'lang': 'en'},\n",
       "  {'category': 'Programming',\n",
       "   'type': 'single',\n",
       "   'joke': 'A SQL statement walks into a bar and sees two tables.\\nIt approaches, and asks \"may I join you?\"',\n",
       "   'flags': {'nsfw': False,\n",
       "    'religious': False,\n",
       "    'political': False,\n",
       "    'racist': False,\n",
       "    'sexist': False,\n",
       "    'explicit': False},\n",
       "   'id': 5,\n",
       "   'safe': True,\n",
       "   'lang': 'en'},\n",
       "  {'category': 'Dark',\n",
       "   'type': 'twopart',\n",
       "   'setup': 'What part of a vegetable are you not supposed to eat?',\n",
       "   'delivery': 'The wheelchair.',\n",
       "   'flags': {'nsfw': False,\n",
       "    'religious': False,\n",
       "    'political': False,\n",
       "    'racist': False,\n",
       "    'sexist': False,\n",
       "    'explicit': True},\n",
       "   'id': 153,\n",
       "   'safe': False,\n",
       "   'lang': 'en'},\n",
       "  {'category': 'Misc',\n",
       "   'type': 'twopart',\n",
       "   'setup': 'If I make you breakfast in bed, a simple thank you is all I need.',\n",
       "   'delivery': 'Not all this \"How the fuck did you get in my house?!\" nonsense.',\n",
       "   'flags': {'nsfw': False,\n",
       "    'religious': False,\n",
       "    'political': False,\n",
       "    'racist': False,\n",
       "    'sexist': False,\n",
       "    'explicit': True},\n",
       "   'id': 84,\n",
       "   'safe': False,\n",
       "   'lang': 'en'}]}"
      ]
     },
     "execution_count": 8,
     "metadata": {},
     "output_type": "execute_result"
    }
   ],
   "source": [
    "response.json()"
   ]
  },
  {
   "cell_type": "code",
   "execution_count": 9,
   "id": "9a88c7d8",
   "metadata": {},
   "outputs": [
    {
     "data": {
      "text/plain": [
       "dict"
      ]
     },
     "execution_count": 9,
     "metadata": {},
     "output_type": "execute_result"
    }
   ],
   "source": [
    "type(response.json())"
   ]
  },
  {
   "cell_type": "code",
   "execution_count": 10,
   "id": "6885e388",
   "metadata": {},
   "outputs": [],
   "source": [
    "import json"
   ]
  },
  {
   "cell_type": "code",
   "execution_count": 11,
   "id": "916ce3cd",
   "metadata": {},
   "outputs": [
    {
     "data": {
      "text/plain": [
       "'{\\n    \"error\": false,\\n    \"amount\": 5,\\n    \"jokes\": [\\n        {\\n            \"category\": \"Misc\",\\n            \"type\": \"twopart\",\\n            \"setup\": \"This morning I accidentally made my coffee with Red Bull instead of water.\",\\n            \"delivery\": \"I was already on the highway when I noticed I forgot my car at home.\",\\n            \"flags\": {\\n                \"nsfw\": false,\\n                \"religious\": false,\\n                \"political\": false,\\n                \"racist\": false,\\n                \"sexist\": false,\\n                \"explicit\": false\\n            },\\n            \"id\": 146,\\n            \"safe\": true,\\n            \"lang\": \"en\"\\n        },\\n        {\\n            \"category\": \"Misc\",\\n            \"type\": \"twopart\",\\n            \"setup\": \"Mom asked me where I\\'m taking her to go out to eat for mother\\'s day.\",\\n            \"delivery\": \"I told her, \\\\\"We already have food in the house\\\\\".\",\\n            \"flags\": {\\n                \"nsfw\": false,\\n                \"religious\": false,\\n                \"political\": false,\\n                \"racist\": false,\\n                \"sexist\": false,\\n                \"explicit\": false\\n            },\\n            \"id\": 88,\\n            \"safe\": true,\\n            \"lang\": \"en\"\\n        },\\n        {\\n            \"category\": \"Programming\",\\n            \"type\": \"single\",\\n            \"joke\": \"A SQL statement walks into a bar and sees two tables.\\\\nIt approaches, and asks \\\\\"may I join you?\\\\\"\",\\n            \"flags\": {\\n                \"nsfw\": false,\\n                \"religious\": false,\\n                \"political\": false,\\n                \"racist\": false,\\n                \"sexist\": false,\\n                \"explicit\": false\\n            },\\n            \"id\": 5,\\n            \"safe\": true,\\n            \"lang\": \"en\"\\n        },\\n        {\\n            \"category\": \"Dark\",\\n            \"type\": \"twopart\",\\n            \"setup\": \"What part of a vegetable are you not supposed to eat?\",\\n            \"delivery\": \"The wheelchair.\",\\n            \"flags\": {\\n                \"nsfw\": false,\\n                \"religious\": false,\\n                \"political\": false,\\n                \"racist\": false,\\n                \"sexist\": false,\\n                \"explicit\": true\\n            },\\n            \"id\": 153,\\n            \"safe\": false,\\n            \"lang\": \"en\"\\n        },\\n        {\\n            \"category\": \"Misc\",\\n            \"type\": \"twopart\",\\n            \"setup\": \"If I make you breakfast in bed, a simple thank you is all I need.\",\\n            \"delivery\": \"Not all this \\\\\"How the fuck did you get in my house?!\\\\\" nonsense.\",\\n            \"flags\": {\\n                \"nsfw\": false,\\n                \"religious\": false,\\n                \"political\": false,\\n                \"racist\": false,\\n                \"sexist\": false,\\n                \"explicit\": true\\n            },\\n            \"id\": 84,\\n            \"safe\": false,\\n            \"lang\": \"en\"\\n        }\\n    ]\\n}'"
      ]
     },
     "execution_count": 11,
     "metadata": {},
     "output_type": "execute_result"
    }
   ],
   "source": [
    "json.dumps(response.json(), indent=4)"
   ]
  },
  {
   "cell_type": "code",
   "execution_count": 12,
   "id": "41388cdb",
   "metadata": {},
   "outputs": [
    {
     "name": "stdout",
     "output_type": "stream",
     "text": [
      "{\n",
      "    \"error\": false,\n",
      "    \"amount\": 5,\n",
      "    \"jokes\": [\n",
      "        {\n",
      "            \"category\": \"Misc\",\n",
      "            \"type\": \"twopart\",\n",
      "            \"setup\": \"This morning I accidentally made my coffee with Red Bull instead of water.\",\n",
      "            \"delivery\": \"I was already on the highway when I noticed I forgot my car at home.\",\n",
      "            \"flags\": {\n",
      "                \"nsfw\": false,\n",
      "                \"religious\": false,\n",
      "                \"political\": false,\n",
      "                \"racist\": false,\n",
      "                \"sexist\": false,\n",
      "                \"explicit\": false\n",
      "            },\n",
      "            \"id\": 146,\n",
      "            \"safe\": true,\n",
      "            \"lang\": \"en\"\n",
      "        },\n",
      "        {\n",
      "            \"category\": \"Misc\",\n",
      "            \"type\": \"twopart\",\n",
      "            \"setup\": \"Mom asked me where I'm taking her to go out to eat for mother's day.\",\n",
      "            \"delivery\": \"I told her, \\\"We already have food in the house\\\".\",\n",
      "            \"flags\": {\n",
      "                \"nsfw\": false,\n",
      "                \"religious\": false,\n",
      "                \"political\": false,\n",
      "                \"racist\": false,\n",
      "                \"sexist\": false,\n",
      "                \"explicit\": false\n",
      "            },\n",
      "            \"id\": 88,\n",
      "            \"safe\": true,\n",
      "            \"lang\": \"en\"\n",
      "        },\n",
      "        {\n",
      "            \"category\": \"Programming\",\n",
      "            \"type\": \"single\",\n",
      "            \"joke\": \"A SQL statement walks into a bar and sees two tables.\\nIt approaches, and asks \\\"may I join you?\\\"\",\n",
      "            \"flags\": {\n",
      "                \"nsfw\": false,\n",
      "                \"religious\": false,\n",
      "                \"political\": false,\n",
      "                \"racist\": false,\n",
      "                \"sexist\": false,\n",
      "                \"explicit\": false\n",
      "            },\n",
      "            \"id\": 5,\n",
      "            \"safe\": true,\n",
      "            \"lang\": \"en\"\n",
      "        },\n",
      "        {\n",
      "            \"category\": \"Dark\",\n",
      "            \"type\": \"twopart\",\n",
      "            \"setup\": \"What part of a vegetable are you not supposed to eat?\",\n",
      "            \"delivery\": \"The wheelchair.\",\n",
      "            \"flags\": {\n",
      "                \"nsfw\": false,\n",
      "                \"religious\": false,\n",
      "                \"political\": false,\n",
      "                \"racist\": false,\n",
      "                \"sexist\": false,\n",
      "                \"explicit\": true\n",
      "            },\n",
      "            \"id\": 153,\n",
      "            \"safe\": false,\n",
      "            \"lang\": \"en\"\n",
      "        },\n",
      "        {\n",
      "            \"category\": \"Misc\",\n",
      "            \"type\": \"twopart\",\n",
      "            \"setup\": \"If I make you breakfast in bed, a simple thank you is all I need.\",\n",
      "            \"delivery\": \"Not all this \\\"How the fuck did you get in my house?!\\\" nonsense.\",\n",
      "            \"flags\": {\n",
      "                \"nsfw\": false,\n",
      "                \"religious\": false,\n",
      "                \"political\": false,\n",
      "                \"racist\": false,\n",
      "                \"sexist\": false,\n",
      "                \"explicit\": true\n",
      "            },\n",
      "            \"id\": 84,\n",
      "            \"safe\": false,\n",
      "            \"lang\": \"en\"\n",
      "        }\n",
      "    ]\n",
      "}\n"
     ]
    }
   ],
   "source": [
    "print(json.dumps(response.json(), indent=4))"
   ]
  },
  {
   "cell_type": "code",
   "execution_count": 13,
   "id": "9688a6d5",
   "metadata": {},
   "outputs": [
    {
     "data": {
      "text/plain": [
       "dict_keys(['error', 'amount', 'jokes'])"
      ]
     },
     "execution_count": 13,
     "metadata": {},
     "output_type": "execute_result"
    }
   ],
   "source": [
    "response.json().keys()"
   ]
  },
  {
   "cell_type": "code",
   "execution_count": null,
   "id": "6a5653b9",
   "metadata": {},
   "outputs": [],
   "source": []
  }
 ],
 "metadata": {
  "kernelspec": {
   "display_name": "scraping-exercise",
   "language": "python",
   "name": "scraping-exercise"
  },
  "language_info": {
   "codemirror_mode": {
    "name": "ipython",
    "version": 3
   },
   "file_extension": ".py",
   "mimetype": "text/x-python",
   "name": "python",
   "nbconvert_exporter": "python",
   "pygments_lexer": "ipython3",
   "version": "3.9.10"
  }
 },
 "nbformat": 4,
 "nbformat_minor": 5
}
